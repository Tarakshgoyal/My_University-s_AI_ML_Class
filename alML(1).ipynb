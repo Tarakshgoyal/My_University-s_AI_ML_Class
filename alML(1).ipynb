{
 "cells": [
  {
   "cell_type": "markdown",
   "id": "61bdb858",
   "metadata": {},
   "source": [
    "Q1"
   ]
  },
  {
   "cell_type": "code",
   "execution_count": 10,
   "id": "1a974a9e",
   "metadata": {},
   "outputs": [
    {
     "name": "stdout",
     "output_type": "stream",
     "text": [
      "2.8284271247461903\n"
     ]
    }
   ],
   "source": [
    "def euclidean_distance(point1,point2):\n",
    "    return (((point2[0] - point1[0])**2)+(point2[1] - point1[1])**2)** 0.5\n",
    "\n",
    "print(euclidean_distance([3,4],[5,6]))"
   ]
  },
  {
   "cell_type": "markdown",
   "id": "0a27fd04",
   "metadata": {},
   "source": [
    "Q2"
   ]
  },
  {
   "cell_type": "code",
   "execution_count": 11,
   "id": "b6cdec3a",
   "metadata": {},
   "outputs": [
    {
     "name": "stdout",
     "output_type": "stream",
     "text": [
      "0.9746318461970762\n"
     ]
    }
   ],
   "source": [
    "import numpy as np\n",
    "\n",
    "def cosine_similarity(vec1, vec2):\n",
    "    vec1 = np.array(vec1)\n",
    "    vec2 = np.array(vec2)\n",
    "    dot_product = np.dot(vec1, vec2)\n",
    "    norm1 = sum(x**2 for x in vec1) ** 0.5\n",
    "    norm2 = sum(x**2 for x in vec2) ** 0.5\n",
    "    return dot_product / (norm1 * norm2)\n",
    "print(cosine_similarity([1, 2, 3], [4, 5, 6]))"
   ]
  },
  {
   "cell_type": "markdown",
   "id": "27aed326",
   "metadata": {},
   "source": [
    "Q3"
   ]
  },
  {
   "cell_type": "code",
   "execution_count": 12,
   "id": "2ada0862",
   "metadata": {},
   "outputs": [
    {
     "name": "stdout",
     "output_type": "stream",
     "text": [
      "   Height(CM)  Weight(CM)        Class\n",
      "0         167          51  Underweight\n",
      "1         182          62       Normal\n",
      "2         176          69       Normal\n",
      "3         173          64       Normal\n",
      "4         172          65       Normal\n"
     ]
    }
   ],
   "source": [
    "import pandas as pd\n",
    "data = pd.read_excel('Book1.xlsx')\n",
    "print(data.head())\n"
   ]
  },
  {
   "cell_type": "code",
   "execution_count": 13,
   "id": "d43d2906",
   "metadata": {},
   "outputs": [
    {
     "name": "stdout",
     "output_type": "stream",
     "text": [
      "Number of columns: 3\n"
     ]
    }
   ],
   "source": [
    "print(\"Number of columns:\", data.shape[1])"
   ]
  },
  {
   "cell_type": "code",
   "execution_count": 14,
   "id": "dd5489f8",
   "metadata": {},
   "outputs": [
    {
     "name": "stdout",
     "output_type": "stream",
     "text": [
      "Number of rows: 10\n"
     ]
    }
   ],
   "source": [
    "print(\"Number of rows:\", data.shape[0])"
   ]
  },
  {
   "cell_type": "code",
   "execution_count": 15,
   "id": "afa1f9b4",
   "metadata": {},
   "outputs": [
    {
     "name": "stdout",
     "output_type": "stream",
     "text": [
      "[[167, 51, 'Underweight'], [182, 62, 'Normal'], [176, 69, 'Normal'], [173, 64, 'Normal'], [172, 65, 'Normal'], [174, 56, 'Underweight'], [169, 58, 'Normal'], [173, 57, 'Normal'], [170, 55, 'Normal'], [170, 57, '?']]\n"
     ]
    }
   ],
   "source": [
    "rows = data.values.tolist()\n",
    "print(rows)"
   ]
  },
  {
   "cell_type": "code",
   "execution_count": 21,
   "id": "dc78c6d4",
   "metadata": {},
   "outputs": [
    {
     "data": {
      "image/png": "[encoded data removed]",
      "text/plain": [
       "<Figure size 640x480 with 1 Axes>"
      ]
     },
     "metadata": {},
     "output_type": "display_data"
    }
   ],
   "source": [
    "import matplotlib.pyplot as plt\n",
    "\n",
    "normal_data = data[data['Class'] == 'Normal']\n",
    "underweight_data = data[data['Class'] == 'Underweight']\n",
    "\n",
    "plt.scatter(normal_data['Height(CM)'], normal_data['Weight(CM)'], color='blue', label='Normal')\n",
    "plt.scatter(underweight_data['Height(CM)'], underweight_data['Weight(CM)'], color='red', label='Underweight')\n",
    "\n",
    "plt.xlabel('Height(CM)')\n",
    "plt.ylabel('Weight(KG)')\n",
    "plt.title('Height vs Weight by Class')\n",
    "plt.legend()\n",
    "plt.show()"
   ]
  },
  {
   "cell_type": "code",
   "execution_count": null,
   "id": "2f250fed",
   "metadata": {},
   "outputs": [
    {
     "name": "stdout",
     "output_type": "stream",
     "text": [
      "Index: 6, Distance: 1.4142135623730951, Class: Normal\n",
      "Index: 8, Distance: 2.0, Class: Normal\n",
      "Index: 7, Distance: 3.0, Class: Normal\n",
      "Index: 5, Distance: 4.123105625617661, Class: Underweight\n",
      "Index: 0, Distance: 6.708203932499369, Class: Underweight\n",
      "Index: 3, Distance: 7.615773105863909, Class: Normal\n",
      "Index: 4, Distance: 8.246211251235321, Class: Normal\n",
      "Index: 1, Distance: 13.0, Class: Normal\n",
      "Index: 2, Distance: 13.416407864998739, Class: Normal\n",
      "Predicted class for the unknown point (k=3): Normal\n"
     ]
    }
   ],
   "source": [
    "pts = data.iloc[9][['Height(CM)', 'Weight(CM)']].values\n",
    "distances = []\n",
    "\n",
    "for idx, row in data.iloc[:-1].iterrows():\n",
    "    point = row[['Height(CM)', 'Weight(CM)']].values\n",
    "    dist = euclidean_distance(point, pts)\n",
    "    distances.append((idx, dist, row['Class']))\n",
    "\n",
    "distances.sort(key=lambda x: x[1])\n",
    "for idx, dist, cls in distances:\n",
    "    print(f\"Index: {idx}, Distance: {dist}, Class: {cls}\")\n",
    "k = 3\n",
    "nearest_classes = [distances[i][2] for i in range(k)]\n",
    "\n",
    "class_counts = {}\n",
    "for cls in nearest_classes:\n",
    "    class_counts[cls] = class_counts.get(cls, 0) + 1\n",
    "\n",
    "predicted_class = max(class_counts, key=class_counts.get)\n",
    "nearest_classes = [distances[i][2] for i in range(k)]\n",
    "class_counts = {}\n",
    "\n",
    "for cls in nearest_classes:\n",
    "    class_counts[cls] = class_counts.get(cls, 0) + 1\n",
    "predicted_class = max(class_counts, key=class_counts.get)\n",
    "print(\"Predicted class for the unknown point (k=3):\", predicted_class)"
   ]
  },
  {
   "cell_type": "code",
   "execution_count": null,
   "id": "d73bff63",
   "metadata": {},
   "outputs": [],
   "source": []
  }
 ],
 "metadata": {
  "kernelspec": {
   "display_name": "myenv",
   "language": "python",
   "name": "python3"
  },
  "language_info": {
   "codemirror_mode": {
    "name": "ipython",
    "version": 3
   },
   "file_extension": ".py",
   "mimetype": "text/x-python",
   "name": "python",
   "nbconvert_exporter": "python",
   "pygments_lexer": "ipython3",
   "version": "3.12.6"
  }
 },
 "nbformat": 4,
 "nbformat_minor": 5
}
